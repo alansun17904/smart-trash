{
 "cells": [
  {
   "cell_type": "markdown",
   "id": "07b8fce1-c197-4f6e-9740-f3cac0350cd5",
   "metadata": {},
   "source": [
    "# Metadata: Time Field Preprocessing"
   ]
  },
  {
   "cell_type": "code",
   "execution_count": null,
   "id": "5fd53309-e4c2-4530-af93-ea646ab662f9",
   "metadata": {},
   "outputs": [],
   "source": []
  }
 ],
 "metadata": {
  "kernelspec": {
   "_number": 0.06195360260216565,
   "display_name": "Python",
   "kernel_gpu_num": "0",
   "kernel_language_version": "3.7",
   "kernel_pytorch_version": "1.2.0",
   "kernel_tf_version": "1.13.2",
   "kernel_train_type": "cpu",
   "language": "python",
   "name": "python_universal"
  },
  "language_info": {
   "codemirror_mode": {
    "name": "ipython",
    "version": 3
   },
   "file_extension": ".py",
   "mimetype": "text/x-python",
   "name": "python",
   "nbconvert_exporter": "python",
   "pygments_lexer": "ipython3",
   "version": "3.7.6"
  }
 },
 "nbformat": 4,
 "nbformat_minor": 4
}
