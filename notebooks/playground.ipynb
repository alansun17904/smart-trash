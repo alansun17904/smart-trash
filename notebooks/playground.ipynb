{
 "cells": [
  {
   "cell_type": "markdown",
   "metadata": {},
   "source": [
    "# Playground"
   ]
  },
  {
   "cell_type": "code",
   "execution_count": 1,
   "metadata": {},
   "outputs": [],
   "source": [
    "import os\n",
    "import ast\n",
    "import json\n",
    "import torch\n",
    "import torch.nn as nn\n",
    "import numpy as np\n",
    "import pandas as pd\n",
    "from pathlib import Path\n",
    "from sklearn.preprocessing import OneHotEncoder"
   ]
  },
  {
   "cell_type": "code",
   "execution_count": 2,
   "metadata": {},
   "outputs": [],
   "source": [
    "ROOT = Path('../asun/Smart-Trash/data/isbnet/')\n",
    "metadata = pd.read_csv(ROOT / 'metadata.csv')"
   ]
  },
  {
   "cell_type": "code",
   "execution_count": 3,
   "metadata": {},
   "outputs": [
    {
     "data": {
      "text/html": [
       "<div>\n",
       "<style scoped>\n",
       "    .dataframe tbody tr th:only-of-type {\n",
       "        vertical-align: middle;\n",
       "    }\n",
       "\n",
       "    .dataframe tbody tr th {\n",
       "        vertical-align: top;\n",
       "    }\n",
       "\n",
       "    .dataframe thead th {\n",
       "        text-align: right;\n",
       "    }\n",
       "</style>\n",
       "<table border=\"1\" class=\"dataframe\">\n",
       "  <thead>\n",
       "    <tr style=\"text-align: right;\">\n",
       "      <th></th>\n",
       "      <th>filepath</th>\n",
       "      <th>category</th>\n",
       "      <th>categorial_time</th>\n",
       "      <th>trashcan_id</th>\n",
       "      <th>trashcan_time</th>\n",
       "      <th>trashcan_location</th>\n",
       "      <th>landmarks</th>\n",
       "    </tr>\n",
       "  </thead>\n",
       "  <tbody>\n",
       "    <tr>\n",
       "      <th>0</th>\n",
       "      <td>../asun/Smart-Trash/data/isbnet/cans/9A/202001...</td>\n",
       "      <td>cans</td>\n",
       "      <td>(0, 0, 0, 1, 1, 1, 0, 0, 0, 0)</td>\n",
       "      <td>9A</td>\n",
       "      <td>(0, 0, 0, 0, 0, 0, 0, 1, 1, 1)</td>\n",
       "      <td>[(24.07, 7.791), (2.209, 7.907), (8.372, 6.047...</td>\n",
       "      <td>['theater', 'printer', 'stairwell', 'bathroom'...</td>\n",
       "    </tr>\n",
       "    <tr>\n",
       "      <th>1</th>\n",
       "      <td>../asun/Smart-Trash/data/isbnet/cans/9A/202001...</td>\n",
       "      <td>cans</td>\n",
       "      <td>(0, 0, 0, 1, 1, 1, 0, 0, 0, 0)</td>\n",
       "      <td>9A</td>\n",
       "      <td>(0, 0, 0, 0, 0, 0, 0, 1, 1, 1)</td>\n",
       "      <td>[(24.07, 7.791), (2.209, 7.907), (8.372, 6.047...</td>\n",
       "      <td>['theater', 'printer', 'stairwell', 'bathroom'...</td>\n",
       "    </tr>\n",
       "    <tr>\n",
       "      <th>2</th>\n",
       "      <td>../asun/Smart-Trash/data/isbnet/cans/9A/202001...</td>\n",
       "      <td>cans</td>\n",
       "      <td>(0, 0, 0, 1, 1, 1, 0, 0, 0, 0)</td>\n",
       "      <td>9A</td>\n",
       "      <td>(0, 0, 0, 0, 0, 0, 0, 1, 1, 1)</td>\n",
       "      <td>[(24.07, 7.791), (2.209, 7.907), (8.372, 6.047...</td>\n",
       "      <td>['theater', 'printer', 'stairwell', 'bathroom'...</td>\n",
       "    </tr>\n",
       "    <tr>\n",
       "      <th>3</th>\n",
       "      <td>../asun/Smart-Trash/data/isbnet/cans/6B/cans29...</td>\n",
       "      <td>cans</td>\n",
       "      <td>(0, 0, 0, 1, 1, 1, 0, 0, 0, 0)</td>\n",
       "      <td>6B</td>\n",
       "      <td>(0, 1, 0, 1, 0, 0, 1, 0, 0, 0)</td>\n",
       "      <td>[(0.465, 7.442), (15.116, 6.744), (10.349, 7.5...</td>\n",
       "      <td>['bathroom', 'stairwell', 'couch_area']</td>\n",
       "    </tr>\n",
       "    <tr>\n",
       "      <th>4</th>\n",
       "      <td>../asun/Smart-Trash/data/isbnet/cans/6B/IMG_73...</td>\n",
       "      <td>cans</td>\n",
       "      <td>(0, 0, 0, 1, 1, 1, 0, 0, 0, 0)</td>\n",
       "      <td>6B</td>\n",
       "      <td>(0, 1, 0, 1, 0, 0, 1, 0, 0, 0)</td>\n",
       "      <td>[(0.465, 7.442), (15.116, 6.744), (10.349, 7.5...</td>\n",
       "      <td>['bathroom', 'stairwell', 'couch_area']</td>\n",
       "    </tr>\n",
       "    <tr>\n",
       "      <th>...</th>\n",
       "      <td>...</td>\n",
       "      <td>...</td>\n",
       "      <td>...</td>\n",
       "      <td>...</td>\n",
       "      <td>...</td>\n",
       "      <td>...</td>\n",
       "      <td>...</td>\n",
       "    </tr>\n",
       "    <tr>\n",
       "      <th>883</th>\n",
       "      <td>../asun/Smart-Trash/data/isbnet/tetrapak/8A/tr...</td>\n",
       "      <td>tetrapak</td>\n",
       "      <td>(0, 1, 1, 1, 1, 1, 0, 1, 1, 0)</td>\n",
       "      <td>8A</td>\n",
       "      <td>(0, 0, 0, 1, 1, 1, 1, 1, 0, 0)</td>\n",
       "      <td>[(17.558, 31.977), (7.558, 1.86), (9.186, 13.8...</td>\n",
       "      <td>['cafeteria', 'stairwell', 'bathroom', 'librar...</td>\n",
       "    </tr>\n",
       "    <tr>\n",
       "      <th>884</th>\n",
       "      <td>../asun/Smart-Trash/data/isbnet/tetrapak/8A/tr...</td>\n",
       "      <td>tetrapak</td>\n",
       "      <td>(0, 1, 1, 1, 1, 1, 0, 1, 1, 0)</td>\n",
       "      <td>8A</td>\n",
       "      <td>(0, 0, 0, 1, 1, 1, 1, 1, 0, 0)</td>\n",
       "      <td>[(17.558, 31.977), (7.558, 1.86), (9.186, 13.8...</td>\n",
       "      <td>['cafeteria', 'stairwell', 'bathroom', 'librar...</td>\n",
       "    </tr>\n",
       "    <tr>\n",
       "      <th>885</th>\n",
       "      <td>../asun/Smart-Trash/data/isbnet/tetrapak/8A/20...</td>\n",
       "      <td>tetrapak</td>\n",
       "      <td>(0, 1, 1, 1, 1, 1, 0, 1, 1, 0)</td>\n",
       "      <td>8A</td>\n",
       "      <td>(0, 0, 0, 1, 1, 1, 1, 1, 0, 0)</td>\n",
       "      <td>[(17.558, 31.977), (7.558, 1.86), (9.186, 13.8...</td>\n",
       "      <td>['cafeteria', 'stairwell', 'bathroom', 'librar...</td>\n",
       "    </tr>\n",
       "    <tr>\n",
       "      <th>886</th>\n",
       "      <td>../asun/Smart-Trash/data/isbnet/tetrapak/8A/tr...</td>\n",
       "      <td>tetrapak</td>\n",
       "      <td>(0, 1, 1, 1, 1, 1, 0, 1, 1, 0)</td>\n",
       "      <td>8A</td>\n",
       "      <td>(0, 0, 0, 1, 1, 1, 1, 1, 0, 0)</td>\n",
       "      <td>[(17.558, 31.977), (7.558, 1.86), (9.186, 13.8...</td>\n",
       "      <td>['cafeteria', 'stairwell', 'bathroom', 'librar...</td>\n",
       "    </tr>\n",
       "    <tr>\n",
       "      <th>887</th>\n",
       "      <td>../asun/Smart-Trash/data/isbnet/tetrapak/8A/20...</td>\n",
       "      <td>tetrapak</td>\n",
       "      <td>(0, 1, 1, 1, 1, 1, 0, 1, 1, 0)</td>\n",
       "      <td>8A</td>\n",
       "      <td>(0, 0, 0, 1, 1, 1, 1, 1, 0, 0)</td>\n",
       "      <td>[(17.558, 31.977), (7.558, 1.86), (9.186, 13.8...</td>\n",
       "      <td>['cafeteria', 'stairwell', 'bathroom', 'librar...</td>\n",
       "    </tr>\n",
       "  </tbody>\n",
       "</table>\n",
       "<p>888 rows × 7 columns</p>\n",
       "</div>"
      ],
      "text/plain": [
       "                                              filepath  category  \\\n",
       "0    ../asun/Smart-Trash/data/isbnet/cans/9A/202001...      cans   \n",
       "1    ../asun/Smart-Trash/data/isbnet/cans/9A/202001...      cans   \n",
       "2    ../asun/Smart-Trash/data/isbnet/cans/9A/202001...      cans   \n",
       "3    ../asun/Smart-Trash/data/isbnet/cans/6B/cans29...      cans   \n",
       "4    ../asun/Smart-Trash/data/isbnet/cans/6B/IMG_73...      cans   \n",
       "..                                                 ...       ...   \n",
       "883  ../asun/Smart-Trash/data/isbnet/tetrapak/8A/tr...  tetrapak   \n",
       "884  ../asun/Smart-Trash/data/isbnet/tetrapak/8A/tr...  tetrapak   \n",
       "885  ../asun/Smart-Trash/data/isbnet/tetrapak/8A/20...  tetrapak   \n",
       "886  ../asun/Smart-Trash/data/isbnet/tetrapak/8A/tr...  tetrapak   \n",
       "887  ../asun/Smart-Trash/data/isbnet/tetrapak/8A/20...  tetrapak   \n",
       "\n",
       "                    categorial_time trashcan_id  \\\n",
       "0    (0, 0, 0, 1, 1, 1, 0, 0, 0, 0)          9A   \n",
       "1    (0, 0, 0, 1, 1, 1, 0, 0, 0, 0)          9A   \n",
       "2    (0, 0, 0, 1, 1, 1, 0, 0, 0, 0)          9A   \n",
       "3    (0, 0, 0, 1, 1, 1, 0, 0, 0, 0)          6B   \n",
       "4    (0, 0, 0, 1, 1, 1, 0, 0, 0, 0)          6B   \n",
       "..                              ...         ...   \n",
       "883  (0, 1, 1, 1, 1, 1, 0, 1, 1, 0)          8A   \n",
       "884  (0, 1, 1, 1, 1, 1, 0, 1, 1, 0)          8A   \n",
       "885  (0, 1, 1, 1, 1, 1, 0, 1, 1, 0)          8A   \n",
       "886  (0, 1, 1, 1, 1, 1, 0, 1, 1, 0)          8A   \n",
       "887  (0, 1, 1, 1, 1, 1, 0, 1, 1, 0)          8A   \n",
       "\n",
       "                      trashcan_time  \\\n",
       "0    (0, 0, 0, 0, 0, 0, 0, 1, 1, 1)   \n",
       "1    (0, 0, 0, 0, 0, 0, 0, 1, 1, 1)   \n",
       "2    (0, 0, 0, 0, 0, 0, 0, 1, 1, 1)   \n",
       "3    (0, 1, 0, 1, 0, 0, 1, 0, 0, 0)   \n",
       "4    (0, 1, 0, 1, 0, 0, 1, 0, 0, 0)   \n",
       "..                              ...   \n",
       "883  (0, 0, 0, 1, 1, 1, 1, 1, 0, 0)   \n",
       "884  (0, 0, 0, 1, 1, 1, 1, 1, 0, 0)   \n",
       "885  (0, 0, 0, 1, 1, 1, 1, 1, 0, 0)   \n",
       "886  (0, 0, 0, 1, 1, 1, 1, 1, 0, 0)   \n",
       "887  (0, 0, 0, 1, 1, 1, 1, 1, 0, 0)   \n",
       "\n",
       "                                     trashcan_location  \\\n",
       "0    [(24.07, 7.791), (2.209, 7.907), (8.372, 6.047...   \n",
       "1    [(24.07, 7.791), (2.209, 7.907), (8.372, 6.047...   \n",
       "2    [(24.07, 7.791), (2.209, 7.907), (8.372, 6.047...   \n",
       "3    [(0.465, 7.442), (15.116, 6.744), (10.349, 7.5...   \n",
       "4    [(0.465, 7.442), (15.116, 6.744), (10.349, 7.5...   \n",
       "..                                                 ...   \n",
       "883  [(17.558, 31.977), (7.558, 1.86), (9.186, 13.8...   \n",
       "884  [(17.558, 31.977), (7.558, 1.86), (9.186, 13.8...   \n",
       "885  [(17.558, 31.977), (7.558, 1.86), (9.186, 13.8...   \n",
       "886  [(17.558, 31.977), (7.558, 1.86), (9.186, 13.8...   \n",
       "887  [(17.558, 31.977), (7.558, 1.86), (9.186, 13.8...   \n",
       "\n",
       "                                             landmarks  \n",
       "0    ['theater', 'printer', 'stairwell', 'bathroom'...  \n",
       "1    ['theater', 'printer', 'stairwell', 'bathroom'...  \n",
       "2    ['theater', 'printer', 'stairwell', 'bathroom'...  \n",
       "3              ['bathroom', 'stairwell', 'couch_area']  \n",
       "4              ['bathroom', 'stairwell', 'couch_area']  \n",
       "..                                                 ...  \n",
       "883  ['cafeteria', 'stairwell', 'bathroom', 'librar...  \n",
       "884  ['cafeteria', 'stairwell', 'bathroom', 'librar...  \n",
       "885  ['cafeteria', 'stairwell', 'bathroom', 'librar...  \n",
       "886  ['cafeteria', 'stairwell', 'bathroom', 'librar...  \n",
       "887  ['cafeteria', 'stairwell', 'bathroom', 'librar...  \n",
       "\n",
       "[888 rows x 7 columns]"
      ]
     },
     "execution_count": 3,
     "metadata": {},
     "output_type": "execute_result"
    }
   ],
   "source": [
    "metadata"
   ]
  },
  {
   "cell_type": "code",
   "execution_count": 4,
   "metadata": {},
   "outputs": [],
   "source": [
    "metalabels = json.load(open(ROOT / 'metalabels.json'))"
   ]
  },
  {
   "cell_type": "code",
   "execution_count": 5,
   "metadata": {},
   "outputs": [],
   "source": [
    "land_dict = metalabels['landmarks']"
   ]
  },
  {
   "cell_type": "code",
   "execution_count": 6,
   "metadata": {},
   "outputs": [],
   "source": [
    "def encode(landmarks):\n",
    "    one_hot = np.zeros(len(land_dict))\n",
    "    for landmark in landmarks:\n",
    "        one_hot[land_dict[landmark]] = 1.\n",
    "    return one_hot"
   ]
  },
  {
   "cell_type": "code",
   "execution_count": 7,
   "metadata": {},
   "outputs": [],
   "source": [
    "def pythag(coor: list) -> float:\n",
    "    return np.linalg.norm(coor, ord=2)"
   ]
  },
  {
   "cell_type": "code",
   "execution_count": 8,
   "metadata": {},
   "outputs": [
    {
     "data": {
      "text/plain": [
       "array([1., 1., 1., 1., 1., 0., 0., 0., 0., 0., 0.])"
      ]
     },
     "execution_count": 8,
     "metadata": {},
     "output_type": "execute_result"
    }
   ],
   "source": [
    "encode(ast.literal_eval(metadata.iloc[0, 6]))"
   ]
  },
  {
   "cell_type": "code",
   "execution_count": 11,
   "metadata": {},
   "outputs": [],
   "source": [
    "metadata['categorial_time'] = metadata['categorial_time'].apply(ast.literal_eval)"
   ]
  },
  {
   "cell_type": "code",
   "execution_count": 9,
   "metadata": {},
   "outputs": [],
   "source": [
    "metadata['trashcan_location'] = metadata['trashcan_location'].apply(ast.literal_eval)"
   ]
  },
  {
   "cell_type": "code",
   "execution_count": 10,
   "metadata": {},
   "outputs": [],
   "source": [
    "metadata['trashcan_time'] = metadata['trashcan_time'].apply(ast.literal_eval)"
   ]
  },
  {
   "cell_type": "code",
   "execution_count": 16,
   "metadata": {},
   "outputs": [],
   "source": [
    "metadata['landmarks'] = metadata.landmarks.apply(ast.literal_eval)"
   ]
  },
  {
   "cell_type": "code",
   "execution_count": 17,
   "metadata": {},
   "outputs": [
    {
     "data": {
      "text/plain": [
       "['theater', 'printer', 'stairwell', 'bathroom', 'library']"
      ]
     },
     "execution_count": 17,
     "metadata": {},
     "output_type": "execute_result"
    }
   ],
   "source": [
    "metadata.iloc[0,6]"
   ]
  },
  {
   "cell_type": "code",
   "execution_count": 18,
   "metadata": {},
   "outputs": [],
   "source": [
    "landmarks = encode(metadata.iloc[0, 6])"
   ]
  },
  {
   "cell_type": "code",
   "execution_count": 22,
   "metadata": {},
   "outputs": [],
   "source": [
    "trashcan_location = metadata.iloc[0, 5]"
   ]
  },
  {
   "cell_type": "code",
   "execution_count": 19,
   "metadata": {},
   "outputs": [
    {
     "data": {
      "text/plain": [
       "array([1., 1., 1., 1., 1., 0., 0., 0., 0., 0., 0.])"
      ]
     },
     "execution_count": 19,
     "metadata": {},
     "output_type": "execute_result"
    }
   ],
   "source": [
    "landmarks"
   ]
  },
  {
   "cell_type": "code",
   "execution_count": 24,
   "metadata": {},
   "outputs": [],
   "source": [
    "distances = [pythag(v) for v in trashcan_location]"
   ]
  },
  {
   "cell_type": "code",
   "execution_count": 26,
   "metadata": {},
   "outputs": [],
   "source": [
    "for index, i in enumerate(metadata.iloc[0, 6]):\n",
    "    landmarks[land_dict[i]] = distances[index]"
   ]
  },
  {
   "cell_type": "code",
   "execution_count": 27,
   "metadata": {},
   "outputs": [
    {
     "data": {
      "text/plain": [
       "array([25.29949764,  8.2097704 , 10.32746789, 19.21819914, 28.10034827,\n",
       "        0.        ,  0.        ,  0.        ,  0.        ,  0.        ,\n",
       "        0.        ])"
      ]
     },
     "execution_count": 27,
     "metadata": {},
     "output_type": "execute_result"
    }
   ],
   "source": [
    "landmarks"
   ]
  },
  {
   "cell_type": "code",
   "execution_count": null,
   "metadata": {},
   "outputs": [],
   "source": []
  }
 ],
 "metadata": {
  "kernelspec": {
   "_number": 0.7751326440903423,
   "display_name": "Python",
   "kernel_gpu_num": "0",
   "kernel_language_version": "3.7",
   "kernel_pytorch_version": "1.2.0",
   "kernel_tf_version": "1.13.2",
   "kernel_train_type": "cpu",
   "language": "Python",
   "name": "python_universal"
  },
  "language_info": {
   "codemirror_mode": {
    "name": "ipython",
    "version": 3
   },
   "file_extension": ".py",
   "mimetype": "text/x-python",
   "name": "python",
   "nbconvert_exporter": "python",
   "pygments_lexer": "ipython3",
   "version": "3.7.6"
  }
 },
 "nbformat": 4,
 "nbformat_minor": 4
}
